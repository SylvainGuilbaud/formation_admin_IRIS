{
 "cells": [
  {
   "cell_type": "markdown",
   "id": "f447e9b6",
   "metadata": {},
   "source": [
    "# Connect to FHIR SQL Builder"
   ]
  },
  {
   "cell_type": "code",
   "execution_count": 8,
   "id": "b4e27c0a",
   "metadata": {},
   "outputs": [],
   "source": [
    "import intersystems_iris as iris"
   ]
  },
  {
   "cell_type": "markdown",
   "id": "be7c5ece",
   "metadata": {},
   "source": [
    "## Create the dbapi connection"
   ]
  },
  {
   "cell_type": "code",
   "execution_count": 9,
   "id": "c1abbba1",
   "metadata": {},
   "outputs": [],
   "source": [
    "# create the dbapi connection\n",
    "\n",
    "host = \"oscar\"\n",
    "port = 1972\n",
    "namespace = \"FHIRSERVER\"\n",
    "user = \"SuperUser\"\n",
    "password = \"SYS\"\n",
    "\n",
    "conn = iris.connect(\n",
    "                    hostname=host, \n",
    "                    port=port, \n",
    "                    namespace=namespace, \n",
    "                    username=user, \n",
    "                    password=password\n",
    "                   )\n",
    "\n",
    "# create a cursor\n",
    "cur = conn.cursor()"
   ]
  },
  {
   "cell_type": "markdown",
   "id": "2be9e143",
   "metadata": {},
   "source": [
    "## Create the DriverLicense Table"
   ]
  },
  {
   "cell_type": "code",
   "execution_count": 10,
   "id": "becbb4a2",
   "metadata": {},
   "outputs": [
    {
     "data": {
      "text/plain": [
       "0"
      ]
     },
     "execution_count": 10,
     "metadata": {},
     "output_type": "execute_result"
    }
   ],
   "source": [
    "# execute a query\n",
    "cur.execute(\"\"\"create TABLE if not exists AB.DriverLicense (\n",
    "\n",
    "    Code varchar(255) not null,\n",
    "    Valide TINYINT not null\n",
    "\n",
    ")\"\"\")"
   ]
  },
  {
   "cell_type": "markdown",
   "id": "1084aaa9",
   "metadata": {},
   "source": [
    "## Insert New Data"
   ]
  },
  {
   "cell_type": "code",
   "execution_count": 11,
   "id": "dac2d737",
   "metadata": {},
   "outputs": [
    {
     "data": {
      "text/plain": [
       "2"
      ]
     },
     "execution_count": 11,
     "metadata": {},
     "output_type": "execute_result"
    }
   ],
   "source": [
    "cur.execute(\"\"\"delete AB.DriverLicense\"\"\")"
   ]
  },
  {
   "cell_type": "code",
   "execution_count": 12,
   "id": "d0b0780d",
   "metadata": {},
   "outputs": [
    {
     "data": {
      "text/plain": [
       "1"
      ]
     },
     "execution_count": 12,
     "metadata": {},
     "output_type": "execute_result"
    }
   ],
   "source": [
    "cur.execute(\"\"\"INSERT INTO AB.DriverLicense (Code, Valide) VALUES ('S99916528', 1)\"\"\")\n",
    "cur.execute(\"\"\"INSERT into AB.DriverLicense (Code, Valide) VALUES ('S99950276', 0)\"\"\")"
   ]
  },
  {
   "cell_type": "markdown",
   "id": "18db8375",
   "metadata": {},
   "source": [
    "## Check new data"
   ]
  },
  {
   "cell_type": "code",
   "execution_count": 13,
   "id": "0c710485",
   "metadata": {},
   "outputs": [
    {
     "data": {
      "text/plain": [
       "[Row(Code='S99916528', Valide=1), Row(Code='S99950276', Valide=0)]"
      ]
     },
     "execution_count": 13,
     "metadata": {},
     "output_type": "execute_result"
    }
   ],
   "source": [
    "cur.execute(\"select * from AB.DriverLicense\")\n",
    "cur.fetchall()"
   ]
  },
  {
   "cell_type": "markdown",
   "id": "5ca3ad99",
   "metadata": {},
   "source": [
    "## Create a dataframe from patient table"
   ]
  },
  {
   "cell_type": "code",
   "execution_count": 14,
   "id": "9090d22e-c01e-4c15-9f4b-7f4436f60877",
   "metadata": {},
   "outputs": [
    {
     "name": "stdout",
     "output_type": "stream",
     "text": [
      "    ID                                           Key PatientGender  \\\n",
      "0    4  Patient/826ab886-1002-db53-cb04-605f0a7c4274        female   \n",
      "1   28  Patient/55baf6c7-9e86-83c2-4511-fea03c30f12e          male   \n",
      "2   40  Patient/c426e277-60b7-52a8-a517-237403f1b7fb          male   \n",
      "3  100  Patient/232a3d16-3925-d75d-ae9a-fde165d63589          male   \n",
      "4  120  Patient/ccd4132a-f1cb-80bb-aa92-3ef75f3bf6ec          male   \n",
      "5  138  Patient/2e3e685a-b592-a10d-e94e-ca7763905d7b        female   \n",
      "\n",
      "  PatientNameFamily PatientNameGiven PatientNamePrefix PatientNameUse  \n",
      "0          REDACTED         REDACTED                ME       official  \n",
      "1          REDACTED         REDACTED                MR       official  \n",
      "2          REDACTED         REDACTED               Dr.          usual  \n",
      "3          REDACTED         REDACTED              None           None  \n",
      "4          REDACTED         REDACTED               Dr.          usual  \n",
      "5          REDACTED         REDACTED                ME       official  \n"
     ]
    },
    {
     "name": "stderr",
     "output_type": "stream",
     "text": [
      "/tmp/ipykernel_106/1665579104.py:5: UserWarning: pandas only supports SQLAlchemy connectable (engine/connection) or database string URI or sqlite3 DBAPI2 connection. Other DBAPI2 objects are not tested. Please consider using SQLAlchemy.\n",
      "  df = pd.read_sql(sql, conn)\n"
     ]
    }
   ],
   "source": [
    "import pandas as pd\n",
    "# create an engine\n",
    "from sqlalchemy import create_engine\n",
    "engine = create_engine('iris://' + user + ':' + password + '@' + host + ':' + str(port) + '/' + namespace)\n",
    "\n",
    "sql = \"select * from AA.Patient\"\n",
    "\n",
    "df = pd.read_sql(sql, engine)\n",
    "\n",
    "print(df)\n",
    "\n",
    "# transform the data to csv\n",
    "df.to_csv(\"patients.csv\")\n"
   ]
  },
  {
   "cell_type": "code",
   "execution_count": null,
   "id": "3c5fce16",
   "metadata": {},
   "outputs": [],
   "source": [
    "conn.close()"
   ]
  },
  {
   "cell_type": "code",
   "execution_count": null,
   "id": "f1a43609",
   "metadata": {},
   "outputs": [],
   "source": []
  }
 ],
 "metadata": {
  "kernelspec": {
   "display_name": "Python 3 (ipykernel)",
   "language": "python",
   "name": "python3"
  },
  "language_info": {
   "codemirror_mode": {
    "name": "ipython",
    "version": 3
   },
   "file_extension": ".py",
   "mimetype": "text/x-python",
   "name": "python",
   "nbconvert_exporter": "python",
   "pygments_lexer": "ipython3",
   "version": "3.11.6"
  }
 },
 "nbformat": 4,
 "nbformat_minor": 5
}
